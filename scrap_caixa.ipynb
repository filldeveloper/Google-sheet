{
 "cells": [
  {
   "cell_type": "code",
   "execution_count": 1,
   "metadata": {},
   "outputs": [],
   "source": [
    "from selenium import webdriver\n",
    "from selenium.webdriver.common.keys import Keys\n",
    "from selenium.webdriver.common.by import By\n",
    "from selenium.webdriver.common.action_chains import ActionChains\n",
    "from selenium.webdriver.chrome.options import Options\n",
    "from selenium.webdriver.chrome.service import Service as ChromeService\n",
    "from webdriver_manager.chrome import ChromeDriverManager\n",
    "from bs4 import BeautifulSoup\n",
    "import pandas as pd \n",
    "from time import sleep, mktime\n",
    "from pprint import pprint\n",
    "import credenciais\n",
    "from datetime import datetime, date\n",
    "from google.oauth2 import service_account\n",
    "from googleapiclient.discovery import build"
   ]
  },
  {
   "cell_type": "code",
   "execution_count": 2,
   "metadata": {},
   "outputs": [],
   "source": [
    "options = webdriver.ChromeOptions()\n",
    "options.add_argument('--log-level=3')\n",
    "url = 'https://internetbanking.caixa.gov.br/sinbc/#!nb/login'\n",
    "\n",
    "chrome = webdriver.Chrome(\n",
    "    options=options,\n",
    "    service=ChromeService(ChromeDriverManager().install())\n",
    "    )"
   ]
  },
  {
   "cell_type": "code",
   "execution_count": 3,
   "metadata": {},
   "outputs": [],
   "source": [
    "chrome.get(url)"
   ]
  },
  {
   "cell_type": "code",
   "execution_count": 4,
   "metadata": {},
   "outputs": [],
   "source": [
    "usuario = credenciais.usuario_caixa\n",
    "chrome.find_element(By.ID,\"nomeUsuario\").send_keys(usuario)\n",
    "chrome.find_element(By.NAME,\"btnLogin\").click()"
   ]
  },
  {
   "cell_type": "code",
   "execution_count": 5,
   "metadata": {},
   "outputs": [],
   "source": [
    "# Clicar no botão \n",
    "chrome.find_element(By.ID,'lnkInitials').click()"
   ]
  },
  {
   "cell_type": "code",
   "execution_count": 6,
   "metadata": {},
   "outputs": [],
   "source": [
    "# Inserção de senha no teclado virtual\n",
    "chrome.find_element(By.XPATH,f'//*[@id=\"teclado\"]/ul/li[{credenciais.senha_caixa[0]}]').click()\n",
    "sleep(1)\n",
    "chrome.find_element(By.XPATH,f'//*[@id=\"teclado\"]/ul/li[{credenciais.senha_caixa[1]}]').click()\n",
    "sleep(1)\n",
    "chrome.find_element(By.XPATH,f'//*[@id=\"teclado\"]/ul/li[{credenciais.senha_caixa[2]}]').click()\n",
    "sleep(1)\n",
    "chrome.find_element(By.XPATH,f'//*[@id=\"teclado\"]/ul/li[{credenciais.senha_caixa[3]}]').click()\n",
    "sleep(1)\n",
    "chrome.find_element(By.XPATH,f'//*[@id=\"teclado\"]/ul/li[{credenciais.senha_caixa[4]}]').click()\n",
    "sleep(1)\n",
    "chrome.find_element(By.XPATH,f'//*[@id=\"teclado\"]/ul/li[{credenciais.senha_caixa[5]}]').click()\n",
    "sleep(1)\n",
    "chrome.find_element(By.XPATH,f'//*[@id=\"teclado\"]/ul/li[{credenciais.senha_caixa[6]}]').click()\n",
    "sleep(1)\n",
    "chrome.find_element(By.XPATH,f'//*[@id=\"teclado\"]/ul/li[{credenciais.senha_caixa[7]}]').click()\n",
    "sleep(1)\n",
    "chrome.find_element(By.ID,'btnConfirmar').click()"
   ]
  },
  {
   "cell_type": "code",
   "execution_count": 7,
   "metadata": {},
   "outputs": [],
   "source": [
    "# Caso exista o popup de promoção, clicar em fechar\n",
    "try:\n",
    "    chrome.find_element(By.NAME,'btnPromoFechar').click()\n",
    "except Exception:\n",
    "    print(\"Não possuía o popup de promoção\")"
   ]
  },
  {
   "cell_type": "code",
   "execution_count": 8,
   "metadata": {},
   "outputs": [],
   "source": [
    "# Clicando em cartões na home\n",
    "chrome.find_element(\n",
    "    By.XPATH,\n",
    "    '//*[@id=\"carrosselLista\"]/li[2]/div[1]/div').click()"
   ]
  },
  {
   "cell_type": "code",
   "execution_count": 9,
   "metadata": {},
   "outputs": [],
   "source": [
    "# Clicando em Faturas para pegar a data de fechamento\n",
    "chrome.find_element(\n",
    "    By.XPATH,\n",
    "    '//*[@id=\"submenu\"]/div[3]/ul/li[2]/a').click()"
   ]
  },
  {
   "cell_type": "code",
   "execution_count": 10,
   "metadata": {},
   "outputs": [],
   "source": [
    "chrome.find_element(By.XPATH,'//*[@id=\"linhaTabelaInicio\"]/tr[2]').click()"
   ]
  },
  {
   "cell_type": "code",
   "execution_count": 11,
   "metadata": {},
   "outputs": [
    {
     "name": "stdout",
     "output_type": "stream",
     "text": [
      "A data de fechamento da próxima fatura é: 25/03/2023\n"
     ]
    }
   ],
   "source": [
    "elemento = chrome.find_element(By.XPATH,'//*[@id=\"tb_list_Inicio\"]')\n",
    "html_content = elemento.get_attribute('outerHTML')\n",
    "soup = BeautifulSoup(html_content, 'html.parser')\n",
    "table = soup.find(name='table')\n",
    "table_content = pd.read_html(str(table))[0]\n",
    "data_fechamento = table_content[[0, 1]]\n",
    "data = data_fechamento.to_dict('records')\n",
    "data_definitiva = data[1][1]\n",
    "print(f'A data de fechamento da próxima fatura é: {data_definitiva}')"
   ]
  },
  {
   "cell_type": "code",
   "execution_count": 12,
   "metadata": {},
   "outputs": [],
   "source": [
    "# Volta para a home\n",
    "chrome.find_element(\n",
    "    By.XPATH,\n",
    "    '//*[@id=\"home\"]/div[1]/div[2]/div[2]/div[2]/div/div[1]/div').click()"
   ]
  },
  {
   "cell_type": "code",
   "execution_count": 13,
   "metadata": {},
   "outputs": [],
   "source": [
    "# Clicando em cartões\n",
    "chrome.find_element(\n",
    "    By.XPATH,\n",
    "    '//*[@id=\"carrosselLista\"]/li[2]/div[1]/div').click()"
   ]
  },
  {
   "cell_type": "code",
   "execution_count": 14,
   "metadata": {},
   "outputs": [],
   "source": [
    "# Histórico de compras\n",
    "chrome.find_element(\n",
    "    By.XPATH,\n",
    "    '//*[@id=\"submenu\"]/div[3]/ul/li[3]/a').click()"
   ]
  },
  {
   "cell_type": "code",
   "execution_count": 15,
   "metadata": {},
   "outputs": [],
   "source": [
    "# Rolar página para baixo e carregar o HTML caso esteja oculto ainda\n",
    "chrome.execute_script(\"window.scrollTo(0,document.body.scrollHeight)\")"
   ]
  },
  {
   "cell_type": "code",
   "execution_count": 16,
   "metadata": {},
   "outputs": [
    {
     "name": "stdout",
     "output_type": "stream",
     "text": [
      "[['28/02/2023', 'DROGAFUJI', 'R$ 49,99'],\n",
      " ['28/02/2023', 'POSTO METROPOLI', 'R$ 50,00'],\n",
      " ['28/02/2023', 'DM ROKU', 'R$ 27,90'],\n",
      " ['27/02/2023', 'POSTO METROPOLI', 'R$ 50,00'],\n",
      " ['26/02/2023', 'AUTO POSTO EPTG', 'R$ 40,00'],\n",
      " ['24/02/2023', 'CACAU SHOW', 'R$ 50,70'],\n",
      " ['23/02/2023', 'SUPERCEI SUPERM', 'R$ 34,43'],\n",
      " ['23/02/2023', 'POSTO METROPOLI', 'R$ 50,00'],\n",
      " ['22/02/2023', 'CASCOL COMBUSTI', 'R$ 30,00'],\n",
      " ['22/02/2023', 'PRIMOR SUPERMER', 'R$ 37,64'],\n",
      " ['21/02/2023', 'DISTRIBUIDORA J', 'R$ 15,00'],\n",
      " ['19/02/2023', 'DISTRIBUIDORA J', 'R$ 28,00'],\n",
      " ['19/02/2023', 'SUPER ADEGA', 'R$ 120,00'],\n",
      " ['19/02/2023', 'AUTO POSTO GOLD', 'R$ 50,00'],\n",
      " ['19/02/2023', 'DROGARIA SAUDE', 'R$ 39,99'],\n",
      " ['16/02/2023', 'COSMOPOLITAN', 'R$ 9,09'],\n",
      " ['14/02/2023', 'COSMOPOLITAN', 'R$ 8,19'],\n",
      " ['12/02/2023', 'AUTO POSTO ROCH', 'R$ 50,00'],\n",
      " ['09/02/2023', 'POSTO METROPOLI', 'R$ 50,00'],\n",
      " ['09/02/2023', 'COSMOPOLITAN', 'R$ 9,00'],\n",
      " ['09/02/2023', 'TON CONSULTORIO', 'R$ 105,00'],\n",
      " ['08/02/2023', 'REDE DROGA SHOP', 'R$ 68,98'],\n",
      " ['08/02/2023', 'POSTO METROPOLI', 'R$ 50,00'],\n",
      " ['01/02/2023', 'CONTROLL ENERGY', 'R$ 50,00'],\n",
      " ['01/02/2023', 'SHOPPING RISK', 'R$ 24,50'],\n",
      " ['01/02/2023', 'DROGARIA ROSARI', 'R$ 55,48']]\n"
     ]
    }
   ],
   "source": [
    "elemento = chrome.find_element(By.XPATH,'//*[@id=\"tb_list_Inicio\"]')\n",
    "html_content = elemento.get_attribute('outerHTML')\n",
    "soup = BeautifulSoup(html_content, 'html.parser')\n",
    "table = soup.find(name='table')\n",
    "\n",
    "extrato_full = pd.read_html(str(table))[0]\n",
    "\n",
    "extrato = extrato_full[[0, 1]]\n",
    "\n",
    "historico_compras = {}\n",
    "historico_compras['extrato'] = extrato.to_dict('records')\n",
    "\n",
    "lista = []\n",
    "caixa = []\n",
    "for linha in historico_compras['extrato']:\n",
    "    if 'Cancelada' in linha[0]:\n",
    "        continue\n",
    "    elif 'Negada' in linha[0]:\n",
    "        continue\n",
    "    data = linha[0].split(' - ')\n",
    "    data = data[0].split('-')\n",
    "    data = data[0] + '/' + data[1] + '/' + data[2]\n",
    "    lista.append(data)\n",
    "\n",
    "    description = linha[0].split('Aprovada')\n",
    "    description = description[0]\n",
    "    description = description[22:-1]\n",
    "    lista.append(description)\n",
    "\n",
    "    valor = linha[1].split('R$ ')\n",
    "    valor = valor[1].split(' ')\n",
    "    valor = 'R$ ' + valor[0]\n",
    "    lista.append(valor)\n",
    "    caixa.append(lista)\n",
    "    lista = []\n",
    "pprint(caixa)\n",
    "chrome.close()"
   ]
  },
  {
   "cell_type": "code",
   "execution_count": 17,
   "metadata": {},
   "outputs": [],
   "source": [
    "dicionario_meses = {1: \"janeiro\", 2: \"fevereiro\", 3: \"março\",\n",
    "                    4: \"abril\", 5: \"maio\", 6: \"junho\",\n",
    "                    7: \"julho\", 8: \"agosto\", 9: \"setembro\",\n",
    "                    10: \"outubro\", 11: \"novembro\", 12: \"dezembro\"}"
   ]
  },
  {
   "cell_type": "code",
   "execution_count": 18,
   "metadata": {},
   "outputs": [],
   "source": [
    "fechamento_fatura = data_definitiva\n",
    "aba_mes = int(fechamento_fatura.split('/')[1]) + 1\n",
    "if aba_mes == 13:\n",
    "    aba_mes = 1"
   ]
  },
  {
   "cell_type": "code",
   "execution_count": 19,
   "metadata": {},
   "outputs": [],
   "source": [
    "# Setar o range da aba mês - Fechamento da Fatura Caixa\n",
    "range_fechamento = f'{dicionario_meses[aba_mes]}!F5'"
   ]
  },
  {
   "cell_type": "code",
   "execution_count": 20,
   "metadata": {},
   "outputs": [
    {
     "name": "stdout",
     "output_type": "stream",
     "text": [
      "Fechamento da próxima fatura do Cartão Caixa: 25/03/2023\n",
      "Histórico de compras do Cartão Caixa: [['28/02/2023', 'DROGAFUJI', 'R$ 49,99'], ['28/02/2023', 'POSTO METROPOLI', 'R$ 50,00'], ['28/02/2023', 'DM ROKU', 'R$ 27,90'], ['27/02/2023', 'POSTO METROPOLI', 'R$ 50,00'], ['26/02/2023', 'AUTO POSTO EPTG', 'R$ 40,00'], ['24/02/2023', 'CACAU SHOW', 'R$ 50,70'], ['23/02/2023', 'SUPERCEI SUPERM', 'R$ 34,43'], ['23/02/2023', 'POSTO METROPOLI', 'R$ 50,00'], ['22/02/2023', 'CASCOL COMBUSTI', 'R$ 30,00'], ['22/02/2023', 'PRIMOR SUPERMER', 'R$ 37,64'], ['21/02/2023', 'DISTRIBUIDORA J', 'R$ 15,00'], ['19/02/2023', 'DISTRIBUIDORA J', 'R$ 28,00'], ['19/02/2023', 'SUPER ADEGA', 'R$ 120,00'], ['19/02/2023', 'AUTO POSTO GOLD', 'R$ 50,00'], ['19/02/2023', 'DROGARIA SAUDE', 'R$ 39,99'], ['16/02/2023', 'COSMOPOLITAN', 'R$ 9,09'], ['14/02/2023', 'COSMOPOLITAN', 'R$ 8,19'], ['12/02/2023', 'AUTO POSTO ROCH', 'R$ 50,00'], ['09/02/2023', 'POSTO METROPOLI', 'R$ 50,00'], ['09/02/2023', 'COSMOPOLITAN', 'R$ 9,00'], ['09/02/2023', 'TON CONSULTORIO', 'R$ 105,00'], ['08/02/2023', 'REDE DROGA SHOP', 'R$ 68,98'], ['08/02/2023', 'POSTO METROPOLI', 'R$ 50,00'], ['01/02/2023', 'CONTROLL ENERGY', 'R$ 50,00'], ['01/02/2023', 'SHOPPING RISK', 'R$ 24,50'], ['01/02/2023', 'DROGARIA ROSARI', 'R$ 55,48']]\n"
     ]
    }
   ],
   "source": [
    "print(f'Fechamento da próxima fatura do Cartão Caixa: {fechamento_fatura}')"
   ]
  },
  {
   "cell_type": "code",
   "execution_count": 21,
   "metadata": {},
   "outputs": [],
   "source": [
    "SERVICE_ACCOUNT_FILE = \"C:\\\\Users\\\\S027668971\\\\Developments\\\\Google-sheet\\\\keys.json\"\n",
    "SCOPES = ['https://www.googleapis.com/auth/spreadsheets']\n",
    "creds = None\n",
    "creds = service_account.Credentials.from_service_account_file(\n",
    "    SERVICE_ACCOUNT_FILE, scopes=SCOPES)"
   ]
  },
  {
   "cell_type": "code",
   "execution_count": 22,
   "metadata": {},
   "outputs": [],
   "source": [
    "# The ID spreadsheet.\n",
    "SAMPLE_SPREADSHEET_ID = '1QhNbaGgEAUzUL_FhOI5xfqTe643xI7lxmpKysub8lPI'\n",
    "service = build('sheets', 'v4', credentials=creds)\n",
    "sheet = service.spreadsheets()\n"
   ]
  },
  {
   "cell_type": "code",
   "execution_count": 23,
   "metadata": {},
   "outputs": [
    {
     "data": {
      "text/plain": [
       "{'spreadsheetId': '1QhNbaGgEAUzUL_FhOI5xfqTe643xI7lxmpKysub8lPI',\n",
       " 'updatedRange': 'Abril!F5',\n",
       " 'updatedRows': 1,\n",
       " 'updatedColumns': 1,\n",
       " 'updatedCells': 1}"
      ]
     },
     "execution_count": 23,
     "metadata": {},
     "output_type": "execute_result"
    }
   ],
   "source": [
    "# Inserir data de fechamento da fatura visa\n",
    "sheet.values().update(spreadsheetId=SAMPLE_SPREADSHEET_ID,\n",
    "                    range=range_fechamento,\n",
    "                    valueInputOption=\"USER_ENTERED\",\n",
    "                    body={\"values\": [[fechamento_fatura]]}).execute()"
   ]
  },
  {
   "cell_type": "code",
   "execution_count": 26,
   "metadata": {},
   "outputs": [],
   "source": [
    "for gasto in caixa:\n",
    "    mes_gasto = int(gasto[0].split('/')[1])\n",
    "    data_gasto = gasto[0]\n",
    "\n",
    "    # Transformar data de gasto em timestamp\n",
    "    timestamp_data_gasto = mktime(datetime.strptime(\n",
    "                                data_gasto, '%d/%m/%Y').timetuple())\n",
    "    \n",
    "    # Pegar data de fechamento equivalente ao mês do gasto\n",
    "    range = f'{dicionario_meses[mes_gasto+1]}!F5'\n",
    "    fechamento_anterior = sheet.values().get(spreadsheetId=SAMPLE_SPREADSHEET_ID,\n",
    "                        range=range).execute().get('values', [])[0][0]\n",
    "    \n",
    "    # Transformar data de fechamento em timestamp\n",
    "    timestamp_data_fechamento = mktime(datetime.strptime(\n",
    "                                fechamento_anterior, '%d/%m/%Y').timetuple())\n",
    "    \n",
    "    # Condição em que determina qual mês o gasto será armazenado\n",
    "    if timestamp_data_gasto < timestamp_data_fechamento:\n",
    "        # Pegando todos os gastos armazenados e determinando a próxima linha vazia\n",
    "        range = f'{dicionario_meses[mes_gasto+1]}!B2:D100'\n",
    "        result = sheet.values().get(spreadsheetId=SAMPLE_SPREADSHEET_ID,\n",
    "                            range=range).execute().get('values', [])\n",
    "        next_empty_row = len(result) + 2\n",
    "\n",
    "        # Condição que compara se gasto se foi armazenado\n",
    "        if gasto not in result:\n",
    "            # Armazenando os gastos na planilha\n",
    "            range = f'{dicionario_meses[mes_gasto+1]}!B{next_empty_row}'\n",
    "            sheet.values().update(spreadsheetId=SAMPLE_SPREADSHEET_ID,\n",
    "                        range=range,\n",
    "                        valueInputOption=\"USER_ENTERED\",\n",
    "                        body={\"values\": [gasto]}).execute()\n",
    "    else:\n",
    "        # Pegando todos os gastos armazenados e determinando a próxima linha vazia\n",
    "        range = f'{dicionario_meses[mes_gasto+2]}!B2:D100'\n",
    "        result = sheet.values().get(spreadsheetId=SAMPLE_SPREADSHEET_ID,\n",
    "                            range=range).execute().get('values', [])\n",
    "        next_empty_row = len(result) + 2\n",
    "\n",
    "        # Condição que compara se gasto se foi armazenado\n",
    "        if gasto not in result:\n",
    "            # Armazenando os gastos na planilha\n",
    "            range = f'{dicionario_meses[mes_gasto+2]}!B{next_empty_row}'\n",
    "            sheet.values().update(spreadsheetId=SAMPLE_SPREADSHEET_ID,\n",
    "                        range=range,\n",
    "                        valueInputOption=\"USER_ENTERED\",\n",
    "                        body={\"values\": [gasto]}).execute()\n",
    "            print(data_gasto, timestamp_data_gasto, fechamento_anterior, timestamp_data_fechamento)\n"
   ]
  }
 ],
 "metadata": {
  "kernelspec": {
   "display_name": "venv",
   "language": "python",
   "name": "python3"
  },
  "language_info": {
   "codemirror_mode": {
    "name": "ipython",
    "version": 3
   },
   "file_extension": ".py",
   "mimetype": "text/x-python",
   "name": "python",
   "nbconvert_exporter": "python",
   "pygments_lexer": "ipython3",
   "version": "3.11.0"
  },
  "orig_nbformat": 4,
  "vscode": {
   "interpreter": {
    "hash": "c1a17a98d81c442307abf9617240407b4f7d069f5ade6dd0377fe3c01ac65bad"
   }
  }
 },
 "nbformat": 4,
 "nbformat_minor": 2
}
