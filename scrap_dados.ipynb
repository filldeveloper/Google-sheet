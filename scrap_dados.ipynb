{
 "cells": [
  {
   "attachments": {},
   "cell_type": "markdown",
   "metadata": {},
   "source": [
    "Código em jupyter para poder facilitar a implementação e atualização do meu projeto pessoal de atualização automática de planilha de controle financeiro. Especificamente a planilha de cartões. Dessa vez tentar implementar a automação também do cartão de crédito da caixa."
   ]
  },
  {
   "cell_type": "code",
   "execution_count": 2,
   "metadata": {},
   "outputs": [],
   "source": [
    "from selenium import webdriver\n",
    "from selenium.webdriver.common.keys import Keys\n",
    "from selenium.webdriver.common.by import By\n",
    "from selenium.webdriver.common.action_chains import ActionChains\n",
    "from selenium.webdriver.chrome.options import Options\n",
    "from selenium.webdriver.chrome.service import Service as ChromeService\n",
    "from webdriver_manager.chrome import ChromeDriverManager\n",
    "from bs4 import BeautifulSoup\n",
    "import pandas as pd \n",
    "from time import sleep\n",
    "from pprint import pprint\n",
    "import credenciais\n",
    "from datetime import datetime, date\n",
    "from google.oauth2 import service_account\n",
    "from googleapiclient.discovery import build\n",
    "\n"
   ]
  },
  {
   "cell_type": "code",
   "execution_count": 3,
   "metadata": {},
   "outputs": [],
   "source": [
    "options = webdriver.ChromeOptions()\n",
    "options.add_argument('--log-level=3')\n",
    "url = 'https://www2.bancobrasil.com.br/aapf/login.html?1638208647003#/acesso-aapf-agencia-conta-1'\n",
    "\n",
    "chrome = webdriver.Chrome(\n",
    "    options=options,\n",
    "    service=ChromeService(ChromeDriverManager().install())\n",
    "    )\n"
   ]
  },
  {
   "cell_type": "code",
   "execution_count": 4,
   "metadata": {},
   "outputs": [],
   "source": [
    "chrome.get(url)\n",
    "agencia = credenciais.agencia_bb\n",
    "conta = credenciais.conta_bb\n",
    "senha = credenciais.senha_bb"
   ]
  },
  {
   "cell_type": "code",
   "execution_count": 5,
   "metadata": {},
   "outputs": [],
   "source": [
    "# Preencher o campo agência\n",
    "chrome.find_element(By.ID,\"dependenciaOrigem\").send_keys(agencia)\n",
    "# Preencher o campo conta e apertar enter\n",
    "chrome.find_element(\n",
    "    By.ID,\"numeroContratoOrigem\"\n",
    "    ).send_keys(conta, Keys.ENTER)"
   ]
  },
  {
   "cell_type": "code",
   "execution_count": 6,
   "metadata": {},
   "outputs": [],
   "source": [
    "# Preencher o campo senha e apertar Enter\n",
    "chrome.find_element(By.ID,\"senhaConta\").send_keys(senha, Keys.ENTER)"
   ]
  },
  {
   "cell_type": "code",
   "execution_count": 7,
   "metadata": {},
   "outputs": [],
   "source": [
    "# Digita Cartões no campo de busca e aperta Enter\n",
    "chrome.find_element(By.ID,\"acheFacil\").send_keys(\"cartões\", Keys.ENTER)\n",
    "sleep(4)\n",
    "# Escolhe a opção de extrato e entra\n",
    "act = ActionChains(chrome)\n",
    "act.click(chrome.find_element(\n",
    "    By.XPATH,\"//a[contains(text(),'Cartões - Fatura - Extrato')]\"\n",
    "    )).perform()"
   ]
  },
  {
   "cell_type": "code",
   "execution_count": 8,
   "metadata": {},
   "outputs": [],
   "source": [
    "# Seleciona o Cartão Elo Nanquim\n",
    "chrome.find_element(By.XPATH,'//*[@id=\"carousel1\"]/div/div/img[2]').click()"
   ]
  },
  {
   "cell_type": "code",
   "execution_count": 9,
   "metadata": {},
   "outputs": [
    {
     "name": "stdout",
     "output_type": "stream",
     "text": [
      "23/03/2023\n"
     ]
    }
   ],
   "source": [
    "# Extrair a data de fechamento da próxima fatura\n",
    "chrome.find_element(By.XPATH,'//*[@id=\"faturasAtual\"]/li[11]/a').click()\n",
    "sleep(2)\n",
    "elemento = chrome.find_element(\n",
    "    By.XPATH,'//*[@id=\"fatura2\"]/table/tbody/tr[4]/td/div/ul/li/span'\n",
    "    )\n",
    "html_content = elemento.get_attribute('outerHTML')\n",
    "soup = BeautifulSoup(html_content, 'html.parser')\n",
    "fechamento_fatura_elo = soup.get_text('\\n')\n",
    "print(fechamento_fatura_elo)"
   ]
  },
  {
   "cell_type": "code",
   "execution_count": 10,
   "metadata": {},
   "outputs": [],
   "source": [
    "# Clica em fatura atual para ver os histórico de compras recente\n",
    "chrome.find_element(By.XPATH,\"//*[@id='faturasAtual']/li[12]\").click()"
   ]
  },
  {
   "cell_type": "code",
   "execution_count": 11,
   "metadata": {},
   "outputs": [],
   "source": [
    "# Rola a página para baixo\n",
    "chrome.execute_script(\"window.scrollTo(0,document.body.scrollHeight)\")"
   ]
  },
  {
   "cell_type": "code",
   "execution_count": 12,
   "metadata": {},
   "outputs": [
    {
     "name": "stdout",
     "output_type": "stream",
     "text": [
      "Message: no such element: Unable to locate element: {\"method\":\"xpath\",\"selector\":\"//*[@id='fatura2']/div[9]/table\"}\n",
      "  (Session info: chrome=110.0.5481.177)\n",
      "Stacktrace:\n",
      "Backtrace:\n",
      "\t(No symbol) [0x00F337D3]\n",
      "\t(No symbol) [0x00EC8B81]\n",
      "\t(No symbol) [0x00DCB36D]\n",
      "\t(No symbol) [0x00DFD382]\n",
      "\t(No symbol) [0x00DFD4BB]\n",
      "\t(No symbol) [0x00E33302]\n",
      "\t(No symbol) [0x00E1B464]\n",
      "\t(No symbol) [0x00E31215]\n",
      "\t(No symbol) [0x00E1B216]\n",
      "\t(No symbol) [0x00DF0D97]\n",
      "\t(No symbol) [0x00DF253D]\n",
      "\tGetHandleVerifier [0x011AABF2+2510930]\n",
      "\tGetHandleVerifier [0x011D8EC1+2700065]\n",
      "\tGetHandleVerifier [0x011DC86C+2714828]\n",
      "\tGetHandleVerifier [0x00FE3480+645344]\n",
      "\t(No symbol) [0x00ED0FD2]\n",
      "\t(No symbol) [0x00ED6C68]\n",
      "\t(No symbol) [0x00ED6D4B]\n",
      "\t(No symbol) [0x00EE0D6B]\n",
      "\tBaseThreadInitThunk [0x77727BA9+25]\n",
      "\tRtlInitializeExceptionChain [0x77C8BB3B+107]\n",
      "\tRtlClearBits [0x77C8BABF+191]\n",
      "\n",
      "[]\n"
     ]
    }
   ],
   "source": [
    "# Captura a tabela de informações presente na página\n",
    "elo_nanquim = []\n",
    "try:\n",
    "    elemento = chrome.find_element(\n",
    "        By.XPATH,\"//*[@id='fatura2']/div[9]/table\")\n",
    "    html_content = elemento.get_attribute('outerHTML')\n",
    "    # Método organiza as informações em html\n",
    "    soup = BeautifulSoup(html_content, 'html.parser')\n",
    "    table = soup.find(name='table')\n",
    "    # Método que extrai as informações do html e coloca num data frame\n",
    "    extrato_full = pd.read_html(str(table))[0]\n",
    "    extrato = extrato_full[[0, 1, 2]]\n",
    "    extrato.columns = ['Data', 'Descrição', 'Valor']\n",
    "    extrato = extrato.drop([0, 1], axis=0)\n",
    "    # Extrai os dados do data frame e manda para um dicionário\n",
    "    historico_compras = {}\n",
    "    historico_compras['extrato'] = extrato.to_dict('records')\n",
    "\n",
    "    lista = []\n",
    "    elo_nanquim = []\n",
    "    for linha in historico_compras['extrato']:\n",
    "        lista.append(linha['Data'])\n",
    "        lista.append(linha['Descrição'])\n",
    "        lista.append(int(linha['Valor'])/100)\n",
    "        elo_nanquim.append(lista)\n",
    "        lista = []\n",
    "except Exception as err:\n",
    "    print(err)\n",
    "pprint(elo_nanquim)"
   ]
  },
  {
   "cell_type": "code",
   "execution_count": 13,
   "metadata": {},
   "outputs": [],
   "source": [
    "# Selecionar o cartão Smiles Visa Infinite\n",
    "chrome.find_element(By.XPATH,'//*[@id=\"carousel1\"]/div/div/img[3]').click()"
   ]
  },
  {
   "cell_type": "code",
   "execution_count": 14,
   "metadata": {},
   "outputs": [],
   "source": [
    "# Clica em fatura atual para ver os histórico de compras recente\n",
    "chrome.find_element(By.CLASS_NAME,\"inactive\").click()"
   ]
  },
  {
   "cell_type": "code",
   "execution_count": 15,
   "metadata": {},
   "outputs": [],
   "source": [
    "# Rolar a página para baixo para ter acesso aos gastos recentes\n",
    "chrome.execute_script(\"window.scrollTo(0,document.body.scrollHeight)\")"
   ]
  },
  {
   "cell_type": "code",
   "execution_count": 16,
   "metadata": {},
   "outputs": [
    {
     "name": "stdout",
     "output_type": "stream",
     "text": [
      "invalid literal for int() with base 10: '16.687,00'\n",
      "[['24/02', 'ROSA GOMES DE SOU', 10.0],\n",
      " ['24/02', 'CASARAO DA VILA R', 71.23],\n",
      " ['24/02', 'AUTO POSTO BRAGA LTDA', 70.0],\n",
      " ['24/02', 'COCO BAMBU AGUAS', 84.15],\n",
      " ['24/02', 'DF PLAZA LTDA', 15.7],\n",
      " ['25/02', 'ATACADAO DROGACEN', 74.97]]\n"
     ]
    }
   ],
   "source": [
    "# Extrair tabela com os gastos recentes\n",
    "visa = []\n",
    "try:\n",
    "    elemento = chrome.find_element(\n",
    "        By.XPATH,\"//*[@id='fatura2']/div[9]//table\")\n",
    "    html_content = elemento.get_attribute('outerHTML')\n",
    "\n",
    "    soup = BeautifulSoup(html_content, 'html.parser')\n",
    "    table = soup.find(name='table')\n",
    "\n",
    "    extrato_full = pd.read_html(str(table))[0]\n",
    "    extrato = extrato_full[[0, 1, 2]]\n",
    "    extrato.columns = ['Data', 'Descrição', 'Valor']\n",
    "    extrato = extrato.drop([0, 1], axis=0)\n",
    "\n",
    "    historico_compras = {}\n",
    "    historico_compras['extrato'] = extrato.to_dict('records')\n",
    "\n",
    "    lista = []\n",
    "    visa = []\n",
    "    for linha in historico_compras['extrato']:\n",
    "        lista.append(linha['Data'])\n",
    "        lista.append(linha['Descrição'])\n",
    "        lista.append(int(linha['Valor'])/100)\n",
    "        visa.append(lista)\n",
    "        lista = []\n",
    "except Exception as err:\n",
    "    print(err)\n",
    "pprint(visa)\n",
    "chrome.close()"
   ]
  },
  {
   "cell_type": "code",
   "execution_count": 17,
   "metadata": {},
   "outputs": [
    {
     "name": "stdout",
     "output_type": "stream",
     "text": [
      "[['24/02', 'ROSA GOMES DE SOU', 10.0],\n",
      " ['24/02', 'CASARAO DA VILA R', 71.23],\n",
      " ['24/02', 'AUTO POSTO BRAGA LTDA', 70.0],\n",
      " ['24/02', 'COCO BAMBU AGUAS', 84.15],\n",
      " ['24/02', 'DF PLAZA LTDA', 15.7],\n",
      " ['25/02', 'ATACADAO DROGACEN', 74.97]]\n"
     ]
    }
   ],
   "source": [
    "# Concatenar as tabelas de gastos dos dois cartões\n",
    "lista_definitiva = visa + elo_nanquim\n",
    "pprint(lista_definitiva)"
   ]
  },
  {
   "cell_type": "code",
   "execution_count": 18,
   "metadata": {},
   "outputs": [],
   "source": [
    "fechamento_fatura = fechamento_fatura_elo\n",
    "dicionario_meses = {1: \"janeiro\", 2: \"fevereiro\", 3: \"março\",\n",
    "                    4: \"abril\", 5: \"maio\", 6: \"junho\",\n",
    "                    7: \"julho\", 8: \"agosto\", 9: \"setembro\",\n",
    "                    10: \"outubro\", 11: \"novembro\", 12: \"dezembro\"}\n",
    "aba_mes = int(fechamento_fatura.split('/')[1]) + 1\n",
    "if aba_mes == 13:\n",
    "    aba_mes = 1\n"
   ]
  },
  {
   "cell_type": "code",
   "execution_count": 19,
   "metadata": {},
   "outputs": [],
   "source": [
    "# Setar o range da aba mês api!C2 - Fechamento da Fatura\n",
    "range_aba = f'{dicionario_meses[aba_mes]}!F11'\n",
    "\n",
    "# Pegar data atual para decidir qual mês irei adicionar os dados\n",
    "data_atual = date.today()\n",
    "data_atual = f'{data_atual.day}/{data_atual.month}/{data_atual.year}'"
   ]
  },
  {
   "cell_type": "code",
   "execution_count": 20,
   "metadata": {},
   "outputs": [
    {
     "name": "stdout",
     "output_type": "stream",
     "text": [
      "Fechamento da próxima fatura Visa: 23/03/2023\n",
      "Histórico de compras Visa: [['24/02', 'ROSA GOMES DE SOU', 10.0], ['24/02', 'CASARAO DA VILA R', 71.23], ['24/02', 'AUTO POSTO BRAGA LTDA', 70.0], ['24/02', 'COCO BAMBU AGUAS', 84.15], ['24/02', 'DF PLAZA LTDA', 15.7], ['25/02', 'ATACADAO DROGACEN', 74.97]]\n"
     ]
    }
   ],
   "source": [
    "print(f'Fechamento da próxima fatura Visa: {fechamento_fatura}')\n",
    "print(f'Histórico de compras Visa: {lista_definitiva}')"
   ]
  },
  {
   "cell_type": "code",
   "execution_count": 21,
   "metadata": {},
   "outputs": [],
   "source": [
    "SERVICE_ACCOUNT_FILE = 'keys.json'\n",
    "SCOPES = ['https://www.googleapis.com/auth/spreadsheets']\n",
    "creds = None\n",
    "creds = service_account.Credentials.from_service_account_file(\n",
    "    SERVICE_ACCOUNT_FILE, scopes=SCOPES)"
   ]
  },
  {
   "cell_type": "code",
   "execution_count": 22,
   "metadata": {},
   "outputs": [],
   "source": [
    "# The ID spreadsheet.\n",
    "SAMPLE_SPREADSHEET_ID = '1QhNbaGgEAUzUL_FhOI5xfqTe643xI7lxmpKysub8lPI'\n",
    "service = build('sheets', 'v4', credentials=creds)\n",
    "sheet = service.spreadsheets()"
   ]
  },
  {
   "cell_type": "code",
   "execution_count": 23,
   "metadata": {},
   "outputs": [
    {
     "data": {
      "text/plain": [
       "{'spreadsheetId': '1QhNbaGgEAUzUL_FhOI5xfqTe643xI7lxmpKysub8lPI',\n",
       " 'updatedRange': 'Abril!F11',\n",
       " 'updatedRows': 1,\n",
       " 'updatedColumns': 1,\n",
       " 'updatedCells': 1}"
      ]
     },
     "execution_count": 23,
     "metadata": {},
     "output_type": "execute_result"
    }
   ],
   "source": [
    "# Inserir data de fechamento da fatura visa\n",
    "sheet.values().update(spreadsheetId=SAMPLE_SPREADSHEET_ID,\n",
    "                    range=range_aba,\n",
    "                    valueInputOption=\"USER_ENTERED\",\n",
    "                    body={\"values\": [[fechamento_fatura]]}).execute()"
   ]
  },
  {
   "cell_type": "code",
   "execution_count": 24,
   "metadata": {},
   "outputs": [
    {
     "name": "stdout",
     "output_type": "stream",
     "text": [
      "[['24/02', 'ROSA GOMES DE SOU', 'R$ 10,00'],\n",
      " ['24/02', 'CASARAO DA VILA R', 'R$ 71,23'],\n",
      " ['24/02', 'AUTO POSTO BRAGA LTDA', 'R$ 70,00'],\n",
      " ['24/02', 'COCO BAMBU AGUAS', 'R$ 84,15'],\n",
      " ['24/02', 'DF PLAZA LTDA', 'R$ 15,70'],\n",
      " ['25/02', 'ATACADAO DROGACEN', 'R$ 74,97']]\n"
     ]
    }
   ],
   "source": [
    "# Atualizar as planilhas\n",
    "descricao_compra = []\n",
    "for gasto in lista_definitiva:\n",
    "    preço = str(f'{gasto[2]:.2f}').split('.')\n",
    "    gasto[2] = \"R$ \" + preço[0] + \",\" + preço[1]\n",
    "    descricao_compra.append(gasto)\n",
    "pprint(descricao_compra)"
   ]
  },
  {
   "cell_type": "code",
   "execution_count": 35,
   "metadata": {},
   "outputs": [
    {
     "name": "stdout",
     "output_type": "stream",
     "text": [
      "[['09/11', 'DROGARIA ROSARIO 5/5', 'R$ 181,04'],\n",
      " ['28/11', 'Suporte Notebook 4/4', 'R$ 27,78'],\n",
      " ['29/11', 'Fone de ouvido 4/4', 'R$ 35,87'],\n",
      " ['12/11', 'Tapete dos meninos 5/5', 'R$ 37,98'],\n",
      " ['19/12', 'Passagem Gol 4/5 ', 'R$ 340,42'],\n",
      " ['02/01', 'Fraldas Heitor 3/3', 'R$ 73,35'],\n",
      " ['05/01', 'Roupão Renner 3/3', 'R$ 103,20'],\n",
      " ['06/01', 'Ultimas Faculdade 3/3', 'R$ 73,40'],\n",
      " ['06/01', 'Ultimas Faculdade 3/3', 'R$ 74,39'],\n",
      " ['13/01', 'Marcação de assentos 3/4', 'R$ 65,00'],\n",
      " ['16/01', 'Manual 3/3', 'R$ 161,34'],\n",
      " ['16/01', 'Globo Bateria 3/4', 'R$ 97,50'],\n",
      " ['18/01', 'Aluguel do Carro 3/6', 'R$ 135,78'],\n",
      " ['01/02', 'Ritalina 2/4', 'R$ 58,22'],\n",
      " ['05/02', 'Livros Rafael 2/10', 'R$ 102,00'],\n",
      " ['06/02', 'Clube Smiles', 'R$ 39,90'],\n",
      " ['24/02', 'ROSA GOMES DE SOU', 'R$ 10,00'],\n",
      " ['24/02', 'CASARAO DA VILA R', 'R$ 71,23'],\n",
      " ['24/02', 'AUTO POSTO BRAGA LTDA', 'R$ 70,00'],\n",
      " ['24/02', 'COCO BAMBU AGUAS', 'R$ 84,15'],\n",
      " ['24/02', 'DF PLAZA LTDA', 'R$ 15,70'],\n",
      " ['25/02/2023', 'ATACADAO DROGACEN', 'R$ 74,97']]\n"
     ]
    }
   ],
   "source": [
    "# O número da aba será coletado de acordo com a data do gasto\n",
    "ano = int(data_atual.split('/')[2])\n",
    "range = f'{dicionario_meses[aba_mes]}!H2:J100'\n",
    "result = sheet.values().get(spreadsheetId=SAMPLE_SPREADSHEET_ID,\n",
    "                            range=range).execute().get('values', [])\n",
    "pprint(result)"
   ]
  },
  {
   "cell_type": "code",
   "execution_count": 36,
   "metadata": {},
   "outputs": [
    {
     "name": "stdout",
     "output_type": "stream",
     "text": [
      "[['09/11', 'DROGARIA ROSARIO 5/5', 'R$ 181,04'],\n",
      " ['28/11', 'Suporte Notebook 4/4', 'R$ 27,78'],\n",
      " ['29/11', 'Fone de ouvido 4/4', 'R$ 35,87'],\n",
      " ['12/11', 'Tapete dos meninos 5/5', 'R$ 37,98'],\n",
      " ['19/12', 'Passagem Gol 4/5 ', 'R$ 340,42'],\n",
      " ['02/01', 'Fraldas Heitor 3/3', 'R$ 73,35'],\n",
      " ['05/01', 'Roupão Renner 3/3', 'R$ 103,20'],\n",
      " ['06/01', 'Ultimas Faculdade 3/3', 'R$ 73,40'],\n",
      " ['06/01', 'Ultimas Faculdade 3/3', 'R$ 74,39'],\n",
      " ['13/01', 'Marcação de assentos 3/4', 'R$ 65,00'],\n",
      " ['16/01', 'Manual 3/3', 'R$ 161,34'],\n",
      " ['16/01', 'Globo Bateria 3/4', 'R$ 97,50'],\n",
      " ['18/01', 'Aluguel do Carro 3/6', 'R$ 135,78'],\n",
      " ['01/02', 'Ritalina 2/4', 'R$ 58,22'],\n",
      " ['05/02', 'Livros Rafael 2/10', 'R$ 102,00'],\n",
      " ['06/02', 'Clube Smiles', 'R$ 39,90'],\n",
      " ['24/02', 'ROSA GOMES DE SOU', 'R$ 10,00'],\n",
      " ['24/02', 'CASARAO DA VILA R', 'R$ 71,23'],\n",
      " ['24/02', 'AUTO POSTO BRAGA LTDA', 'R$ 70,00'],\n",
      " ['24/02', 'COCO BAMBU AGUAS', 'R$ 84,15'],\n",
      " ['24/02', 'DF PLAZA LTDA', 'R$ 15,70'],\n",
      " ['25/02', 'ATACADAO DROGACEN', 'R$ 74,97']]\n"
     ]
    }
   ],
   "source": [
    "planilha = []\n",
    "for row in result:\n",
    "    data = row[0].split('/')\n",
    "    row[0] = data[0] + \"/\" + data[1]\n",
    "    planilha.append(row)\n",
    "pprint(planilha)"
   ]
  },
  {
   "cell_type": "code",
   "execution_count": 37,
   "metadata": {},
   "outputs": [],
   "source": [
    "# Comparando os gastos com os valores já na planilha\n",
    "resultado_compra = []\n",
    "for i in descricao_compra:\n",
    "    if i not in planilha:\n",
    "        resultado_compra.append(i)"
   ]
  },
  {
   "cell_type": "code",
   "execution_count": 38,
   "metadata": {},
   "outputs": [
    {
     "name": "stdout",
     "output_type": "stream",
     "text": [
      "23/3/2023\n"
     ]
    }
   ],
   "source": [
    "# Pegar a data de fechamento da fatura na planilha e alimentá-la de acordo\n",
    "fechamento_planilha = sheet.values().get(spreadsheetId=SAMPLE_SPREADSHEET_ID,\n",
    "                            range=range_aba).execute().get('values', [])[0][0]\n",
    "print(fechamento_planilha)"
   ]
  },
  {
   "cell_type": "code",
   "execution_count": 39,
   "metadata": {},
   "outputs": [
    {
     "name": "stdout",
     "output_type": "stream",
     "text": [
      "1679540400.0\n"
     ]
    }
   ],
   "source": [
    "import time\n",
    "# Transformar data de fechamento da planilha em timestamp\n",
    "timestamp_fechamento = time.mktime(datetime.strptime(\n",
    "    fechamento_planilha, '%d/%m/%Y').timetuple())\n",
    "print(timestamp_fechamento)"
   ]
  },
  {
   "cell_type": "code",
   "execution_count": 34,
   "metadata": {},
   "outputs": [],
   "source": [
    "# Enviar mensagem via telegram caso exista gasto a ser adicionado\n",
    "# Alimentar a planilha com os dados do cartão Visa\n",
    "validador_msg = 0\n",
    "for gasto in resultado_compra:\n",
    "    numero_aba = int(gasto[0].split('/')[1]) + 1\n",
    "    mes_gasto = int(gasto[0].split('/')[1])\n",
    "    mes_fechamento_fatura = int(fechamento_planilha.split('/')[1]) \n",
    "    \n",
    "    if numero_aba == 13:\n",
    "            numero_aba = 1\n",
    "    # if mes_gasto > numero_aba:\n",
    "    #     data_gasto = f'{gasto[0]}/{ano-1}'\n",
    "    \n",
    "    data_gasto = f'{gasto[0]}/{ano}'\n",
    "\n",
    "    timestamp_data_gasto = time.mktime(datetime.strptime(\n",
    "                                data_gasto, '%d/%m/%Y').timetuple())\n",
    "\n",
    "    if timestamp_data_gasto < timestamp_fechamento:\n",
    "        # Mandar msg para cada gasto\n",
    "        # mensagem_gasto = f'{gasto[1]} \\- {gasto[-1]}'\n",
    "        # if \"=\" in mensagem_gasto:\n",
    "        #     mensagem_gasto = mensagem_gasto.replace('=', '\\=')\n",
    "        # if \"*\" in mensagem_gasto:\n",
    "        #     mensagem_gasto = mensagem_gasto.replace('*', '\\*')\n",
    "        # telegram_bot(mensagem_gasto)\n",
    "\n",
    "        validador_msg = 1\n",
    "        \n",
    "        if mes_gasto < mes_fechamento_fatura:\n",
    "            range = f'{dicionario_meses[numero_aba+1]}!H2:J100'\n",
    "            result = sheet.values().get(spreadsheetId=SAMPLE_SPREADSHEET_ID,\n",
    "                                range=range).execute().get('values', [])\n",
    "            next_empty_row = len(result) + 2\n",
    "            range = f'{dicionario_meses[numero_aba+1]}!H{next_empty_row}'\n",
    "            sheet.values().update(spreadsheetId=SAMPLE_SPREADSHEET_ID,\n",
    "                        range=range,\n",
    "                        valueInputOption=\"USER_ENTERED\",\n",
    "                        body={\"values\": [gasto]}).execute()\n",
    "        else:\n",
    "            range = f'{dicionario_meses[numero_aba]}!H2:J100'\n",
    "            result = sheet.values().get(spreadsheetId=SAMPLE_SPREADSHEET_ID,\n",
    "                                range=range).execute().get('values', [])\n",
    "            next_empty_row = len(result) + 2\n",
    "            range = f'{dicionario_meses[numero_aba]}!H{next_empty_row}'\n",
    "            sheet.values().update(spreadsheetId=SAMPLE_SPREADSHEET_ID,\n",
    "                        range=range,\n",
    "                        valueInputOption=\"USER_ENTERED\",\n",
    "                        body={\"values\": [gasto]}).execute()\n",
    "    else:\n",
    "        numero_aba = numero_aba + 1\n",
    "        if numero_aba == 13:\n",
    "            numero_aba = 1\n",
    "        \n",
    "        range = f'{dicionario_meses[numero_aba]}!H2:J100'\n",
    "        result = sheet.values().get(spreadsheetId=SAMPLE_SPREADSHEET_ID,\n",
    "                            range=range).execute().get('values', [])\n",
    "        \n",
    "        planilha = []\n",
    "        for row in result:\n",
    "            data = row[0].split('/')\n",
    "            row[0] = data[0] + \"/\" + data[1]\n",
    "            planilha.append(row)\n",
    "\n",
    "        if gasto not in planilha:\n",
    "            mensagem_gasto = f'{gasto[1]} \\- {gasto[-1]}'\n",
    "            if \"=\" in mensagem_gasto:\n",
    "                mensagem_gasto = mensagem_gasto.replace('=', '\\=')\n",
    "            if \"*\" in mensagem_gasto:\n",
    "                mensagem_gasto = mensagem_gasto.replace('*', '\\*')\n",
    "            # telegram_bot(mensagem_gasto)\n",
    "\n",
    "            validador_msg = 1\n",
    "            next_empty_row = len(result) + 2\n",
    "            range = f'{dicionario_meses[numero_aba]}!H{next_empty_row}'\n",
    "            sheet.values().update(spreadsheetId=SAMPLE_SPREADSHEET_ID,\n",
    "                        range=range,\n",
    "                        valueInputOption=\"USER_ENTERED\",\n",
    "                        body={\"values\": [gasto]}).execute()"
   ]
  }
 ],
 "metadata": {
  "kernelspec": {
   "display_name": "venv",
   "language": "python",
   "name": "python3"
  },
  "language_info": {
   "codemirror_mode": {
    "name": "ipython",
    "version": 3
   },
   "file_extension": ".py",
   "mimetype": "text/x-python",
   "name": "python",
   "nbconvert_exporter": "python",
   "pygments_lexer": "ipython3",
   "version": "3.9.1"
  },
  "orig_nbformat": 4,
  "vscode": {
   "interpreter": {
    "hash": "41e1155d7245806930bee3326c35c103c79f38e5031437e6db5fae12ebd50203"
   }
  }
 },
 "nbformat": 4,
 "nbformat_minor": 2
}
