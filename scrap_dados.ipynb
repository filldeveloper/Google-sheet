{
 "cells": [
  {
   "attachments": {},
   "cell_type": "markdown",
   "metadata": {},
   "source": [
    "Código em jupyter para poder facilitar a implementação e atualização do meu projeto pessoal de atualização automática de planilha de controle financeiro. Especificamente a planilha de cartões. Dessa vez tentar implementar a automação também do cartão de crédito da caixa."
   ]
  },
  {
   "cell_type": "code",
   "execution_count": 1,
   "metadata": {},
   "outputs": [],
   "source": [
    "from selenium import webdriver\n",
    "from selenium.webdriver.common.keys import Keys\n",
    "from selenium.webdriver.common.by import By\n",
    "from selenium.webdriver.common.action_chains import ActionChains\n",
    "from selenium.webdriver.chrome.options import Options\n",
    "from selenium.webdriver.chrome.service import Service as ChromeService\n",
    "from webdriver_manager.chrome import ChromeDriverManager\n",
    "from bs4 import BeautifulSoup\n",
    "import pandas as pd \n",
    "from time import sleep\n",
    "from pprint import pprint\n",
    "import credenciais\n",
    "from datetime import datetime, date\n",
    "from google.oauth2 import service_account\n",
    "from googleapiclient.discovery import build\n",
    "from funcoes_planilha_credito import msg_whatsapp\n",
    "\n"
   ]
  },
  {
   "cell_type": "code",
   "execution_count": 2,
   "metadata": {},
   "outputs": [
    {
     "data": {
      "text/plain": [
       "{'messaging_product': 'whatsapp',\n",
       " 'contacts': [{'input': '5561999128143', 'wa_id': '556199128143'}],\n",
       " 'messages': [{'id': 'wamid.HBgMNTU2MTk5MTI4MTQzFQIAERgSMUQwOTlGMDQyQkQwNTFDRTJEAA=='}]}"
      ]
     },
     "execution_count": 2,
     "metadata": {},
     "output_type": "execute_result"
    }
   ],
   "source": [
    "msg_whatsapp('teste')"
   ]
  },
  {
   "cell_type": "code",
   "execution_count": 2,
   "metadata": {},
   "outputs": [],
   "source": [
    "options = webdriver.ChromeOptions()\n",
    "options.add_argument('--log-level=3')\n",
    "url = 'https://www2.bancobrasil.com.br/aapf/login.html?1638208647003#/acesso-aapf-agencia-conta-1'\n",
    "\n",
    "chrome = webdriver.Chrome(\n",
    "    options=options,\n",
    "    service=ChromeService(ChromeDriverManager().install())\n",
    "    )\n"
   ]
  },
  {
   "cell_type": "code",
   "execution_count": 3,
   "metadata": {},
   "outputs": [],
   "source": [
    "chrome.get(url)\n",
    "agencia = credenciais.agencia_bb\n",
    "conta = credenciais.conta_bb\n",
    "senha = credenciais.senha_bb"
   ]
  },
  {
   "cell_type": "code",
   "execution_count": 4,
   "metadata": {},
   "outputs": [],
   "source": [
    "# Preencher o campo agência\n",
    "chrome.find_element(By.ID,\"dependenciaOrigem\").send_keys(agencia)\n",
    "# Preencher o campo conta e apertar enter\n",
    "chrome.find_element(\n",
    "    By.ID,\"numeroContratoOrigem\"\n",
    "    ).send_keys(conta, Keys.ENTER)"
   ]
  },
  {
   "cell_type": "code",
   "execution_count": 5,
   "metadata": {},
   "outputs": [],
   "source": [
    "# Preencher o campo senha e apertar Enter\n",
    "chrome.find_element(By.ID,\"senhaConta\").send_keys(senha, Keys.ENTER)"
   ]
  },
  {
   "cell_type": "code",
   "execution_count": 6,
   "metadata": {},
   "outputs": [],
   "source": [
    "# Digita Cartões no campo de busca e aperta Enter\n",
    "chrome.find_element(By.ID,\"acheFacil\").send_keys(\"cartões\", Keys.ENTER)\n",
    "sleep(4)\n",
    "# Escolhe a opção de extrato e entra\n",
    "act = ActionChains(chrome)\n",
    "act.click(chrome.find_element(\n",
    "    By.XPATH,\"//a[contains(text(),'Cartões - Fatura - Extrato')]\"\n",
    "    )).perform()"
   ]
  },
  {
   "cell_type": "code",
   "execution_count": 7,
   "metadata": {},
   "outputs": [],
   "source": [
    "# Seleciona o Cartão Elo Nanquim\n",
    "chrome.find_element(By.XPATH,'//*[@id=\"carousel1\"]/div/div/img[2]').click()"
   ]
  },
  {
   "cell_type": "code",
   "execution_count": 8,
   "metadata": {},
   "outputs": [
    {
     "name": "stdout",
     "output_type": "stream",
     "text": [
      "24/04/2023\n"
     ]
    }
   ],
   "source": [
    "# Extrair a data de fechamento da próxima fatura\n",
    "chrome.find_element(By.XPATH,'//*[@id=\"faturasAtual\"]/li[11]/a').click()\n",
    "sleep(2)\n",
    "elemento = chrome.find_element(\n",
    "    By.XPATH,'//*[@id=\"fatura2\"]/table/tbody/tr[4]/td/div/ul/li/span'\n",
    "    )\n",
    "html_content = elemento.get_attribute('outerHTML')\n",
    "soup = BeautifulSoup(html_content, 'html.parser')\n",
    "fechamento_fatura_elo = soup.get_text('\\n')\n",
    "print(fechamento_fatura_elo)"
   ]
  },
  {
   "cell_type": "code",
   "execution_count": 9,
   "metadata": {},
   "outputs": [],
   "source": [
    "# Clica em fatura atual para ver os histórico de compras recente\n",
    "chrome.find_element(By.XPATH,\"//*[@id='faturasAtual']/li[12]\").click()"
   ]
  },
  {
   "cell_type": "code",
   "execution_count": 10,
   "metadata": {},
   "outputs": [],
   "source": [
    "# Rola a página para baixo\n",
    "chrome.execute_script(\"window.scrollTo(0,document.body.scrollHeight)\")"
   ]
  },
  {
   "cell_type": "code",
   "execution_count": 11,
   "metadata": {},
   "outputs": [
    {
     "name": "stdout",
     "output_type": "stream",
     "text": [
      "[['24/03', 'PICPAY *THAISEOLIVEIRA', 52.5, 0],\n",
      " ['27/03', 'EBN *SPOTIFY', 19.9, 0],\n",
      " ['27/03', 'CP', 30.0, 0]]\n"
     ]
    }
   ],
   "source": [
    "# Captura a tabela de informações presente na página\n",
    "elo_nanquim = []\n",
    "try:\n",
    "    elemento = chrome.find_element(\n",
    "        By.XPATH,\"//*[@id='fatura2']/div[9]/table\")\n",
    "    html_content = elemento.get_attribute('outerHTML')\n",
    "    # Método organiza as informações em html\n",
    "    soup = BeautifulSoup(html_content, 'html.parser')\n",
    "    table = soup.find(name='table')\n",
    "    # Método que extrai as informações do html e coloca num data frame\n",
    "    extrato_full = pd.read_html(str(table))[0]\n",
    "    extrato = extrato_full[[0, 1, 2]]\n",
    "    extrato.columns = ['Data', 'Descrição', 'Valor']\n",
    "    extrato = extrato.drop([0, 1], axis=0)\n",
    "    # Extrai os dados do data frame e manda para um dicionário\n",
    "    historico_compras = {}\n",
    "    historico_compras['extrato'] = extrato.to_dict('records')\n",
    "\n",
    "    lista = []\n",
    "    elo_nanquim = []\n",
    "    for linha in historico_compras['extrato']:\n",
    "\n",
    "        if 'PARC=' in linha['Descrição']:\n",
    "            xparcelas = int(linha['Descrição'][7])\n",
    "            lista.append(linha['Data'])\n",
    "            lista.append(linha['Descrição'][8:-1])\n",
    "            lista.append(int(linha['Valor'])/100)\n",
    "            lista.append(xparcelas)\n",
    "            elo_nanquim.append(lista)\n",
    "            lista = []\n",
    "        else:\n",
    "            lista.append(linha['Data'])\n",
    "            lista.append(linha['Descrição'])\n",
    "            lista.append(int(linha['Valor'])/100)\n",
    "            lista.append(0)\n",
    "            elo_nanquim.append(lista)\n",
    "            lista = []\n",
    "except Exception as err:\n",
    "    print(err)\n",
    "pprint(elo_nanquim)"
   ]
  },
  {
   "cell_type": "code",
   "execution_count": 12,
   "metadata": {},
   "outputs": [],
   "source": [
    "# Selecionar o cartão Smiles Visa Infinite\n",
    "chrome.find_element(By.XPATH,'//*[@id=\"carousel1\"]/div/div/img[3]').click()"
   ]
  },
  {
   "cell_type": "code",
   "execution_count": 16,
   "metadata": {},
   "outputs": [],
   "source": [
    "# Clica em fatura atual para ver os histórico de compras recente\n",
    "chrome.find_element(By.LINK_TEXT,\"Próxima Fatura\").click()\n"
   ]
  },
  {
   "cell_type": "code",
   "execution_count": 17,
   "metadata": {},
   "outputs": [],
   "source": [
    "# Rolar a página para baixo para ter acesso aos gastos recentes\n",
    "chrome.execute_script(\"window.scrollTo(0,document.body.scrollHeight)\")"
   ]
  },
  {
   "cell_type": "code",
   "execution_count": 18,
   "metadata": {},
   "outputs": [
    {
     "name": "stdout",
     "output_type": "stream",
     "text": [
      "[['24/03', 'ROSANGELA ALMEIDA', 11.0, 0],\n",
      " ['24/03', 'PAG*EdemirDeSouza', 29.84, 0],\n",
      " ['24/03', 'PAG*LgAutomacaoE', 13.5, 0],\n",
      " ['25/03', 'AUTO POSTO CINCO ESTRE', 200.0, 0],\n",
      " ['25/03', 'AUTO POSTO CINCO ESTRE', 20.18, 0],\n",
      " ['26/03', 'RAF HAMBURGUERIA', 37.0, 0],\n",
      " ['27/03', 'ESSENCIA DO TRIGO', 12.22, 0]]\n"
     ]
    }
   ],
   "source": [
    "# Extrair tabela com os gastos recentes\n",
    "visa = []\n",
    "try:\n",
    "    elemento = chrome.find_element(\n",
    "        By.XPATH,\"//*[@id='fatura2']/div[9]//table\")\n",
    "    html_content = elemento.get_attribute('outerHTML')\n",
    "\n",
    "    soup = BeautifulSoup(html_content, 'html.parser')\n",
    "    table = soup.find(name='table')\n",
    "\n",
    "    extrato_full = pd.read_html(str(table))[0]\n",
    "    extrato = extrato_full[[0, 1, 2]]\n",
    "    extrato.columns = ['Data', 'Descrição', 'Valor']\n",
    "    extrato = extrato.drop([0, 1], axis=0)\n",
    "\n",
    "    historico_compras = {}\n",
    "    historico_compras['extrato'] = extrato.to_dict('records')\n",
    "\n",
    "    lista = []\n",
    "    visa = []\n",
    "    for linha in historico_compras['extrato']:\n",
    "        valor = linha['Valor']\n",
    "        # Condição para quando a compra for maior que um mil reais\n",
    "        if '.' in valor and ',' in valor:\n",
    "            valor_mil = valor.replace('.', '')\n",
    "            valor_mil = float(valor_mil.replace(',','.'))\n",
    "            lista.append(linha['Data'])\n",
    "            lista.append(linha['Descrição'])\n",
    "            lista.append(valor_mil)\n",
    "            lista.append(0)\n",
    "            visa.append(lista)\n",
    "            lista = []\n",
    "        # Condição caso a compra seja parcelada\n",
    "        elif 'PARC=' in linha['Descrição']:\n",
    "            xparcelas = int(linha['Descrição'][7])\n",
    "            lista.append(linha['Data'])\n",
    "            lista.append(linha['Descrição'][8:-1])\n",
    "            lista.append(int(linha['Valor'])/100)\n",
    "            lista.append(xparcelas)\n",
    "            visa.append(lista)\n",
    "            lista = []\n",
    "        else:\n",
    "            lista.append(linha['Data'])\n",
    "            lista.append(linha['Descrição'])\n",
    "            lista.append(int(linha['Valor'])/100)\n",
    "            lista.append(0)\n",
    "            visa.append(lista)\n",
    "            lista = []\n",
    "except Exception as err:\n",
    "    print(err)\n",
    "pprint(visa)\n",
    "# chrome.close()"
   ]
  },
  {
   "cell_type": "code",
   "execution_count": 19,
   "metadata": {},
   "outputs": [
    {
     "name": "stdout",
     "output_type": "stream",
     "text": [
      "[['24/03', 'ROSANGELA ALMEIDA', 11.0, 0],\n",
      " ['24/03', 'PAG*EdemirDeSouza', 29.84, 0],\n",
      " ['24/03', 'PAG*LgAutomacaoE', 13.5, 0],\n",
      " ['25/03', 'AUTO POSTO CINCO ESTRE', 200.0, 0],\n",
      " ['25/03', 'AUTO POSTO CINCO ESTRE', 20.18, 0],\n",
      " ['26/03', 'RAF HAMBURGUERIA', 37.0, 0],\n",
      " ['27/03', 'ESSENCIA DO TRIGO', 12.22, 0],\n",
      " ['24/03', 'PICPAY *THAISEOLIVEIRA', 52.5, 0],\n",
      " ['27/03', 'EBN *SPOTIFY', 19.9, 0],\n",
      " ['27/03', 'CP', 30.0, 0]]\n"
     ]
    }
   ],
   "source": [
    "# Concatenar as tabelas de gastos dos dois cartões\n",
    "lista_definitiva = visa + elo_nanquim\n",
    "pprint(lista_definitiva)"
   ]
  },
  {
   "cell_type": "code",
   "execution_count": 41,
   "metadata": {},
   "outputs": [],
   "source": [
    "fechamento_fatura = fechamento_fatura_elo\n",
    "dicionario_meses = {1: \"janeiro\", 2: \"fevereiro\", 3: \"março\",\n",
    "                    4: \"abril\", 5: \"maio\", 6: \"junho\",\n",
    "                    7: \"julho\", 8: \"agosto\", 9: \"setembro\",\n",
    "                    10: \"outubro\", 11: \"novembro\", 12: \"dezembro\"}\n",
    "aba_mes = int(fechamento_fatura.split('/')[1]) + 1\n",
    "if aba_mes == 13:\n",
    "    aba_mes = 1\n"
   ]
  },
  {
   "cell_type": "code",
   "execution_count": 42,
   "metadata": {},
   "outputs": [],
   "source": [
    "# Setar o range da aba mês api!C2 - Fechamento da Fatura\n",
    "range_aba = f'{dicionario_meses[aba_mes]}!F11'"
   ]
  },
  {
   "cell_type": "code",
   "execution_count": 43,
   "metadata": {},
   "outputs": [
    {
     "name": "stdout",
     "output_type": "stream",
     "text": [
      "Fechamento da próxima fatura Visa: 23/03/2023\n",
      "(\"Histórico de compras Visa: [['10/03', 'ROSANGELA ALMEIDA', 11.0, 0], \"\n",
      " \"['10/03', 'CENTRO EDUCACIONAL ADV', 1126.2, 0], ['10/03', 'RESTAURANTE DA \"\n",
      " \"AN', 30.8, 0], ['10/03', 'AUTO POSTO BRAGA LTDA', 40.0, 0], ['11/03', \"\n",
      " \"'DROGARIA SAMPAIO', 33.5, 0]]\")\n"
     ]
    }
   ],
   "source": [
    "print(f'Fechamento da próxima fatura Visa: {fechamento_fatura}')\n",
    "pprint(f'Histórico de compras Visa: {lista_definitiva}')"
   ]
  },
  {
   "cell_type": "code",
   "execution_count": 44,
   "metadata": {},
   "outputs": [],
   "source": [
    "SERVICE_ACCOUNT_FILE = 'C:\\\\Users\\\\S027668971\\\\Developments\\\\Google-sheet\\\\keys.json'\n",
    "SCOPES = ['https://www.googleapis.com/auth/spreadsheets']\n",
    "creds = None\n",
    "creds = service_account.Credentials.from_service_account_file(\n",
    "    SERVICE_ACCOUNT_FILE, scopes=SCOPES)"
   ]
  },
  {
   "cell_type": "code",
   "execution_count": 45,
   "metadata": {},
   "outputs": [],
   "source": [
    "# The ID spreadsheet.\n",
    "SAMPLE_SPREADSHEET_ID = '1QhNbaGgEAUzUL_FhOI5xfqTe643xI7lxmpKysub8lPI'\n",
    "service = build('sheets', 'v4', credentials=creds)\n",
    "sheet = service.spreadsheets()"
   ]
  },
  {
   "cell_type": "code",
   "execution_count": 46,
   "metadata": {},
   "outputs": [
    {
     "data": {
      "text/plain": [
       "{'spreadsheetId': '1QhNbaGgEAUzUL_FhOI5xfqTe643xI7lxmpKysub8lPI',\n",
       " 'updatedRange': 'Abril!F11',\n",
       " 'updatedRows': 1,\n",
       " 'updatedColumns': 1,\n",
       " 'updatedCells': 1}"
      ]
     },
     "execution_count": 46,
     "metadata": {},
     "output_type": "execute_result"
    }
   ],
   "source": [
    "# Inserir data de fechamento da fatura visa\n",
    "sheet.values().update(spreadsheetId=SAMPLE_SPREADSHEET_ID,\n",
    "                    range=range_aba,\n",
    "                    valueInputOption=\"USER_ENTERED\",\n",
    "                    body={\"values\": [[fechamento_fatura]]}).execute()"
   ]
  },
  {
   "cell_type": "code",
   "execution_count": null,
   "metadata": {},
   "outputs": [],
   "source": [
    "# Atualizar as planilhas\n",
    "# descricao_compra = []\n",
    "# for gasto in lista_definitiva:\n",
    "#     preço = str(f'{gasto[2]:.2f}').split('.')\n",
    "#     gasto[2] = \"R$ \" + preço[0] + \",\" + preço[1]\n",
    "#     descricao_compra.append(gasto)\n",
    "# pprint(descricao_compra)"
   ]
  },
  {
   "cell_type": "code",
   "execution_count": 47,
   "metadata": {},
   "outputs": [
    {
     "name": "stdout",
     "output_type": "stream",
     "text": [
      "2023\n"
     ]
    }
   ],
   "source": [
    "# Pegar data atual para decidir qual mês irei adicionar os dados\n",
    "data_atual = date.today() \n",
    "ano_atual = data_atual.year\n",
    "print(ano_atual)"
   ]
  },
  {
   "cell_type": "code",
   "execution_count": 62,
   "metadata": {},
   "outputs": [],
   "source": [
    "# lista_definitiva2 = [\n",
    "#     ['28/02', 'Tênis Rafael', 169.0, 2],\n",
    "#     ['27/02', 'Teste', 29.95, 0],\n",
    "#     ['07/03', 'Flores', 100.0, 2],\n",
    "#     ['07/03', 'MIQUEIAS', 62.5, 0]\n",
    "#     ]"
   ]
  },
  {
   "cell_type": "code",
   "execution_count": 54,
   "metadata": {},
   "outputs": [
    {
     "name": "stdout",
     "output_type": "stream",
     "text": [
      "['10/03', 'ROSANGELA ALMEIDA', 'R$ 11,00']\n",
      "['10/03', 'CENTRO EDUCACIONAL ADV', 'R$ 1.126,20']\n",
      "['10/03', 'RESTAURANTE DA AN', 'R$ 30,80']\n",
      "['10/03', 'AUTO POSTO BRAGA LTDA', 'R$ 40,00']\n",
      "['11/03', 'DROGARIA SAMPAIO', 'R$ 33,50']\n"
     ]
    }
   ],
   "source": [
    "# Alimentar a planilha com os dados do cartão Smiles Visa e Elo Nanquim\n",
    "from time import mktime\n",
    "\n",
    "for gasto in lista_definitiva:\n",
    "\n",
    "    mes_gasto = int(gasto[0].split('/')[1])\n",
    "    data_gasto = f'{gasto[0]}/{ano_atual}'\n",
    "\n",
    "    # Transformar data de gasto em timestamp\n",
    "    timestamp_data_gasto = mktime(datetime.strptime(\n",
    "                                data_gasto, '%d/%m/%Y').timetuple())\n",
    "\n",
    "    # Pegar data de fechamento equivalente ao mês do gasto\n",
    "    range = f'{dicionario_meses[mes_gasto+1]}!F11'\n",
    "    fechamento_anterior = sheet.values().get(spreadsheetId=SAMPLE_SPREADSHEET_ID,\n",
    "                        range=range).execute().get('values', [])[0][0]\n",
    "    \n",
    "    # Transformar data de fechamento em timestamp\n",
    "    timestamp_data_fechamento = mktime(datetime.strptime(\n",
    "                                fechamento_anterior, '%d/%m/%Y').timetuple())\n",
    "\n",
    "    # Condição que determina qual mês o gasto será armazenado\n",
    "    if timestamp_data_gasto < timestamp_data_fechamento:\n",
    "        # Condição que verifica se o gasto foi parcelado\n",
    "        if gasto[3]: # Se vier a flag de parcelado\n",
    "            valor_total = float(gasto[2])\n",
    "            xparcelas = gasto[3]\n",
    "            valor_parcela = round((valor_total / xparcelas),2)\n",
    "            valor_parcela = (\"{:.2f}\".format(valor_parcela)).replace('.', ',')\n",
    "            valor_parcela = 'R$ ' + valor_parcela\n",
    "\n",
    "            # Loop que fará o registro das parcelas de acordo\n",
    "            count = 1\n",
    "            while count <= xparcelas:\n",
    "                parcela = [gasto[0], f'{gasto[1]} {count}/{xparcelas}', valor_parcela]\n",
    "                # Pegando todos os gastos armazenados e determinando a próxima linha vazia\n",
    "                range = f'{dicionario_meses[mes_gasto + count]}!H2:J100'\n",
    "                result = sheet.values().get(spreadsheetId=SAMPLE_SPREADSHEET_ID,\n",
    "                                    range=range).execute().get('values', [])\n",
    "                next_empty_row = len(result) + 2\n",
    "                # Condição que compara se gasto se foi armazenado\n",
    "                if parcela not in result:\n",
    "                    # Armazenando os gastos na planilha\n",
    "                    range = f'{dicionario_meses[mes_gasto + count]}!H{next_empty_row}'\n",
    "                    sheet.values().update(spreadsheetId=SAMPLE_SPREADSHEET_ID,\n",
    "                                range=range,\n",
    "                                valueInputOption=\"USER_ENTERED\",\n",
    "                                body={\"values\": [parcela]}).execute()\n",
    "                count += 1\n",
    "\n",
    "        else: # Se a flag de gasto parcelado vier 0\n",
    "            valor_gasto = 'R$ ' + (\"{:.2f}\".format(gasto[2])).replace('.', ',')\n",
    "\n",
    "            # Condição para corrigir a inserção de valores maiores que um mil\n",
    "            if len(valor_gasto) > 9:\n",
    "                valor_gasto = valor_gasto[:4] + '.' + valor_gasto[4:]\n",
    "\n",
    "            parcela = [gasto[0], gasto[1], valor_gasto]\n",
    "            # Pegando todos os gastos armazenados e determinando a próxima linha vazia\n",
    "            range = f'{dicionario_meses[mes_gasto+1]}!H2:J100'\n",
    "            result = sheet.values().get(spreadsheetId=SAMPLE_SPREADSHEET_ID,\n",
    "                                range=range).execute().get('values', [])\n",
    "            next_empty_row = len(result) + 2\n",
    "            print(parcela)\n",
    "\n",
    "            # Condição que compara se gasto se foi armazenado\n",
    "            if parcela not in result:\n",
    "                # Armazenando os gastos na planilha\n",
    "                range = f'{dicionario_meses[mes_gasto+1]}!H{next_empty_row}'\n",
    "                sheet.values().update(spreadsheetId=SAMPLE_SPREADSHEET_ID,\n",
    "                            range=range,\n",
    "                            valueInputOption=\"USER_ENTERED\",\n",
    "                            body={\"values\": [parcela]}).execute()\n",
    "                \n",
    "    else: # Se a compra for feita no mês anterior ao do fechamento da fatura\n",
    "        # Condição que verifica se o gasto foi parcelado\n",
    "        if gasto[3]: # Se vier a flag de parcelado\n",
    "            valor_total = float(gasto[2])\n",
    "            xparcelas = gasto[3]\n",
    "            valor_parcela = round((valor_total / xparcelas),2)\n",
    "            valor_parcela = (\"{:.2f}\".format(valor_parcela)).replace('.', ',')\n",
    "            valor_parcela = 'R$ ' + valor_parcela\n",
    "            print(gasto)\n",
    "\n",
    "            # Loop que fará o registro das parcelas de acordo\n",
    "            count = 1\n",
    "            while count <= xparcelas:\n",
    "                parcela = [gasto[0], f'{gasto[1]} {count}/{xparcelas}', valor_parcela]\n",
    "                # Pegando todos os gastos armazenados e determinando a próxima linha vazia\n",
    "                range = f'{dicionario_meses[mes_gasto + count + 1]}!H2:J100'\n",
    "                result = sheet.values().get(spreadsheetId=SAMPLE_SPREADSHEET_ID,\n",
    "                                    range=range).execute().get('values', [])\n",
    "                next_empty_row = len(result) + 2\n",
    "                # Condição que compara se gasto se foi armazenado\n",
    "                if parcela not in result:\n",
    "                    # Armazenando os gastos na planilha\n",
    "                    range = f'{dicionario_meses[mes_gasto + count + 1]}!H{next_empty_row}'\n",
    "                    sheet.values().update(spreadsheetId=SAMPLE_SPREADSHEET_ID,\n",
    "                                range=range,\n",
    "                                valueInputOption=\"USER_ENTERED\",\n",
    "                                body={\"values\": [parcela]}).execute()\n",
    "    \n",
    "                count += 1\n",
    "        else: # Se a flag de gasto parcelado vier 0\n",
    "            valor_gasto = 'R$ ' + (\"{:.2f}\".format(gasto[2])).replace('.', ',')\n",
    "\n",
    "            # Condição para corrigir a inserção de valores maiores que um mil\n",
    "            if len(valor_gasto) > 9:\n",
    "                valor_gasto = valor_gasto[:4] + '.' + valor_gasto[4:]\n",
    "                \n",
    "            parcela = [gasto[0], gasto[1], valor_gasto]\n",
    "            # Pegando todos os gastos armazenados e determinando a próxima linha vazia\n",
    "            range = f'{dicionario_meses[mes_gasto+2]}!H2:J100'\n",
    "            result = sheet.values().get(spreadsheetId=SAMPLE_SPREADSHEET_ID,\n",
    "                                range=range).execute().get('values', [])\n",
    "            next_empty_row = len(result) + 2\n",
    "            print(parcela)\n",
    "\n",
    "            # Condição que compara se gasto se foi armazenado\n",
    "            if parcela not in result:\n",
    "                # Armazenando os gastos na planilha\n",
    "                range = f'{dicionario_meses[mes_gasto+2]}!H{next_empty_row}'\n",
    "                sheet.values().update(spreadsheetId=SAMPLE_SPREADSHEET_ID,\n",
    "                                    range=range,\n",
    "                                    valueInputOption=\"USER_ENTERED\",\n",
    "                                    body={\"values\": [parcela]}).execute()\n"
   ]
  },
  {
   "cell_type": "code",
   "execution_count": 52,
   "metadata": {},
   "outputs": [
    {
     "name": "stdout",
     "output_type": "stream",
     "text": [
      "[['10/03', 'CENTRO EDUCACIONAL ADV', 'R$ 1.126,20']]\n",
      "R$ 1.126,20\n"
     ]
    }
   ],
   "source": [
    "range = f'{dicionario_meses[mes_gasto+1]}!H64:J64'\n",
    "result = sheet.values().get(spreadsheetId=SAMPLE_SPREADSHEET_ID,\n",
    "                        range=range).execute().get('values', [])\n",
    "pprint(result)\n",
    "valor = 'R$ 1126,20'\n",
    "if len(valor) > 9:\n",
    "    valor = valor[:4] + '.' + valor[4:]\n",
    "    print(valor)"
   ]
  }
 ],
 "metadata": {
  "kernelspec": {
   "display_name": "venv",
   "language": "python",
   "name": "python3"
  },
  "language_info": {
   "codemirror_mode": {
    "name": "ipython",
    "version": 3
   },
   "file_extension": ".py",
   "mimetype": "text/x-python",
   "name": "python",
   "nbconvert_exporter": "python",
   "pygments_lexer": "ipython3",
   "version": "3.11.0"
  },
  "orig_nbformat": 4,
  "vscode": {
   "interpreter": {
    "hash": "c1a17a98d81c442307abf9617240407b4f7d069f5ade6dd0377fe3c01ac65bad"
   }
  }
 },
 "nbformat": 4,
 "nbformat_minor": 2
}
